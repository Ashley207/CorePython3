{
 "cells": [
  {
   "attachments": {},
   "cell_type": "markdown",
   "metadata": {},
   "source": [
    "# Problem 1"
   ]
  },
  {
   "cell_type": "code",
   "execution_count": 2,
   "metadata": {},
   "outputs": [
    {
     "name": "stdout",
     "output_type": "stream",
     "text": [
      "Soru2\n",
      "[3 1 4 8 3]\n",
      "Soru3\n",
      "1\n",
      "Soru4\n",
      "[[3]\n",
      " [1]\n",
      " [4]\n",
      " [8]\n",
      " [3]]\n",
      "Soru5\n",
      "(5,)\n"
     ]
    }
   ],
   "source": [
    "# 1 - numpy kütüphanesini import edin\n",
    "import numpy as np \n",
    "\n",
    "# 2 - 0 ile 10 arasında 5 sayıdan oluşan matris üretin\n",
    "print(\"Soru2\")\n",
    "m = np.random.randint(0,10,size = 5)\n",
    "print(m)\n",
    "\n",
    "# 3 - matris'in boyutunu öğrenin\n",
    "print(\"Soru3\")\n",
    "print(m.ndim)\n",
    "\n",
    "# 4 - matris'i yeniden boyutlandırın\n",
    "print(\"Soru4\")\n",
    "m2= m.reshape(5,1)\n",
    "print(m2)\n",
    "\n",
    "\n",
    "# 5 - matris'in boyut sayısını öğrenin\n",
    "print(\"Soru5\")\n",
    "m.shape\n",
    "print(m.shape)\n"
   ]
  },
  {
   "attachments": {},
   "cell_type": "markdown",
   "metadata": {},
   "source": [
    "# Problem 2"
   ]
  },
  {
   "cell_type": "code",
   "execution_count": 5,
   "metadata": {},
   "outputs": [
    {
     "name": "stdout",
     "output_type": "stream",
     "text": [
      "Soru1\n",
      "[1 3 5 7 9]\n",
      "Soru2\n",
      "[1 3 5]\n",
      "[7 9]\n",
      "Soru3\n",
      "[1 3 5 7 9]\n"
     ]
    }
   ],
   "source": [
    "# 1 - 0 ile 10 arasında bulunan tek sayılardan oluşan matris üretin\n",
    "print(\"Soru1\")\n",
    "m = np.array([i for i in range(11) if i % 2 !=0])\n",
    "print(m)\n",
    "\n",
    "# 2 - Oluşturduğunuz matrisi parçalayın\n",
    "print(\"Soru2\")\n",
    "val1, val2 = np.array_split(m,2) #2 parçaya ayırmak için\n",
    "print(val1)\n",
    "print(val2)\n",
    "\n",
    "# 3 - Parçalanmış matrisleri birleştirin\n",
    "print(\"Soru3\")\n",
    "birlesmis = np.concatenate((val1,val2))\n",
    "print(birlesmis)\n",
    "\n"
   ]
  },
  {
   "attachments": {},
   "cell_type": "markdown",
   "metadata": {},
   "source": [
    "# Problem 3"
   ]
  },
  {
   "cell_type": "code",
   "execution_count": 15,
   "metadata": {},
   "outputs": [
    {
     "name": "stdout",
     "output_type": "stream",
     "text": [
      "Soru1\n",
      "[27 87 19 69 49 37 73 31 97 41]\n",
      "Soru2\n",
      "(10,)\n",
      "1\n",
      "10\n"
     ]
    }
   ],
   "source": [
    "# 1 - 5 ile 100 arasında ikişer ikişer atlayarak rastgele 10 sayıdan oluşan matris üretin\n",
    "print(\"Soru1\")\n",
    "sayi = np.arange(5,100,2)\n",
    "matrix = np.random.choice(sayi, size=10)\n",
    "print(matrix)\n",
    "\n",
    "# 2 - matris'in özelliklerini inceleyin\n",
    "print(\"Soru2\")\n",
    "print(matrix.shape)\n",
    "print(matrix.ndim)\n",
    "print(matrix.size)\n"
   ]
  }
 ],
 "metadata": {
  "kernelspec": {
   "display_name": "Python 3",
   "language": "python",
   "name": "python3"
  },
  "language_info": {
   "codemirror_mode": {
    "name": "ipython",
    "version": 3
   },
   "file_extension": ".py",
   "mimetype": "text/x-python",
   "name": "python",
   "nbconvert_exporter": "python",
   "pygments_lexer": "ipython3",
   "version": "3.12.3"
  },
  "orig_nbformat": 4,
  "vscode": {
   "interpreter": {
    "hash": "5026d2d6e7aaaaba093def813beadff083d8733e4a511af01735cbabd156995d"
   }
  }
 },
 "nbformat": 4,
 "nbformat_minor": 2
}
