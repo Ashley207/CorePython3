{
 "cells": [
  {
   "cell_type": "markdown",
   "metadata": {},
   "source": [
    "# Problem 1\n",
    "`ogrenciler` adında bir sözlük oluşturunuz. Kullanıcıdan döngü yardımıyla 3 öğrenci için veri girmesini isteyerek öğrencilerin sırasıyla okul numarası, isim, soy isim, telefon numarası ve doğum tarihi bilgilerini alınız. Aldığınız öğrenci bilgilerini yine aynı döngü yardımıyla `ogrenciler` adındaki sözlükte saklayınız. Daha sonra öğrenci bilgilerinin bulunduğu sözlük yapısını ekrana bastırınız.\n",
    "\n"
   ]
  },
  {
   "cell_type": "code",
   "execution_count": 1,
   "metadata": {},
   "outputs": [
    {
     "name": "stdout",
     "output_type": "stream",
     "text": [
      "1. öğrenci bilgilerini giriniz:\n",
      "\n",
      "2. öğrenci bilgilerini giriniz:\n",
      "\n",
      "3. öğrenci bilgilerini giriniz:\n",
      "\n",
      "Öğrenci Bilgileri:\n",
      "Okul No: 502\n",
      "Isim: aslı\n",
      "Soyisim: tepe\n",
      "Telefon: 8083249275\n",
      "Dogum_tarihi: 834783\n",
      "\n",
      "Okul No: 65\n",
      "Isim: mert\n",
      "Soyisim: yürek\n",
      "Telefon: 837594605\n",
      "Dogum_tarihi: 75490004\n",
      "\n",
      "Okul No: 45\n",
      "Isim: yalın\n",
      "Soyisim: yılmaz\n",
      "Telefon: 7583750350\n",
      "Dogum_tarihi: 78004432\n",
      "\n"
     ]
    }
   ],
   "source": [
    "# İlk iterasyonda, i değeri 0 olur. i+1 ifadesi 1 olur ve print() fonksiyonu 1. öğrenci... yazdırır.\n",
    "\n",
    "ogrenciler = {}\n",
    "\n",
    "for i in range(3):     # range(3) ifadesi aslında [0, 1, 2] aralığını temsil eder. Döngü, i değişkeni 0, 1 ve 2 değerlerini alacak şekilde toplam 3 kez çalışır.\n",
    "    print(f\"{i+1}. öğrenci bilgilerini giriniz:\") \n",
    "    okul_no = input(\"Okul Numarası: \")\n",
    "    isim = input(\"İsim: \")\n",
    "    soyisim = input(\"Soyisim: \")\n",
    "    telefon = input(\"Telefon Numarası: \")\n",
    "    dogum_tarihi = input(\"Doğum Tarihi: \")\n",
    "\n",
    "    ogrenciler[okul_no] = {\n",
    "        \"isim\": isim,\n",
    "        \"soyisim\": soyisim,\n",
    "        \"telefon\": telefon,\n",
    "        \"dogum_tarihi\": dogum_tarihi,\n",
    "        }\n",
    "\n",
    "    print()  # Bir satır boşluk ekle\n",
    "\n",
    "print(\"Öğrenci Bilgileri:\")\n",
    "for okul_no, bilgiler in ogrenciler.items(): #ogrenciler.items() metodu, ogrenciler sözlüğünün her bir anahtar-değer çiftini döndürür.\n",
    "\n",
    "    print(f\"Okul No: {okul_no}\")\n",
    "\n",
    "    for key, value in bilgiler.items():\n",
    "\n",
    "        print(f\"{key.capitalize()}: {value}\") # key.capitalize() metodu, key string'ini alır ve ilk harfini büyük yaparak geri döndürür.\n",
    "    print() \n"
   ]
  },
  {
   "cell_type": "markdown",
   "metadata": {},
   "source": [
    "# Problem 2\n",
    "\n",
    "### a - Biraz ısınarak başlayalım!\n",
    "\n",
    "```\n",
    "numbers = [5,10,10,15,15,15,20,20,20,20]\n",
    "```\n",
    "\n",
    "Yukarıda `numbers` adında 10 elemanlı bir liste verilmiştir. Bu listenin her elemanını kontrol eden ve tekrar eden elemanları bir kez olacak şekilde başka bir listeye kopyalayan bir program yazınız. Son olarak oluşturduğunuz listeyi ekrana bastırınız.\n",
    "\n",
    "\n",
    "\n",
    "\n",
    "```\n",
    ">Output\n",
    "[5, 10, 15, 20]\n",
    "```\n"
   ]
  },
  {
   "cell_type": "code",
   "execution_count": 2,
   "metadata": {},
   "outputs": [
    {
     "name": "stdout",
     "output_type": "stream",
     "text": [
      "[5, 10, 15, 20]\n"
     ]
    }
   ],
   "source": [
    "\n",
    "\n",
    "numbers = [5, 10, 10, 15, 15, 15, 20, 20, 20, 20]\n",
    "\n",
    "unique_numbers = []\n",
    "\n",
    "for number in numbers:\n",
    "    if number not in unique_numbers:\n",
    "        unique_numbers.append(number)\n",
    "\n",
    "print(unique_numbers)\n"
   ]
  },
  {
   "cell_type": "markdown",
   "metadata": {},
   "source": [
    "### 🌶️ b) Hadi işi biraz daha zorlaştıralım! \n",
    "\n",
    "\n",
    "Şimdiyse senden `numbers` isimli listedeki tekrar eden elemanları `repeatNumbers` adındaki listeye; tekrar etmeyen elemanları `uniqueNumbers`adındaki listeye kopyalayan yazmanı ve listeleri ekrana bastırmanı bekliyoruz\n",
    "\n",
    "```\n",
    ">Output\n",
    "Tekrar Eden Elemanlar: [10, 10, 15, 15, 15, 20, 20, 20, 20]\n",
    "Tekrar Etmeyen Elemanlar: [5]\n",
    "```"
   ]
  },
  {
   "cell_type": "code",
   "execution_count": 1,
   "metadata": {},
   "outputs": [
    {
     "name": "stdout",
     "output_type": "stream",
     "text": [
      "Tekrar Eden Elemanlar: [10, 15, 15, 20, 20, 20]\n",
      "Tekrar Etmeyen Elemanlar: [5]\n"
     ]
    }
   ],
   "source": [
    "# items() metodu, bir sözlüğün anahtar-değer çiftlerini içeren bir görünüm (view) nesnesi döner.\n",
    "# Bu görünüm nesnesi, her bir anahtar-değer çiftini bir demet (tuple) olarak içerir. \n",
    "# counts.items() ifadesi, sözlükteki anahtar-değer çiftlerini döner ve bu çiftleri döngü içinde kullanmamızı sağlar. \n",
    "# Bu sayede sözlükteki her bir elemanı ayrı ayrı işleyebiliriz.\n",
    "#  extend metodu, listeye birden fazla eleman eklemek için kullanılır.\n",
    "# append metodu, listeye tek bir eleman eklemek için kullanılır. \n",
    "\n",
    "\n",
    "\n",
    "\n",
    "\n",
    "numbers = [5, 10, 10, 15, 15, 15, 20, 20, 20, 20]\n",
    "\n",
    "\n",
    "counts = {}     # Bu sözlük, elemanların kaç kez tekrar ettiğini saymak için kullanılacaktır.\n",
    "\n",
    "# Her elemanın kaç kez tekrar ettiğini sözlükte sayıyoruz\n",
    "for number in numbers:\n",
    "    if number in counts:\n",
    "        counts[number] += 1    # Eğer number elemanı counts sözlüğünde zaten varsa, değerini bir artırırız.\n",
    "    else:\n",
    "        counts[number] = 1     # Yoksa, number elemanını counts sözlüğüne ekleriz ve değerini bir yaparız.\n",
    "\n",
    "# Tekrar eden ve etmeyen elemanları saklamak için liste yap.\n",
    "repeatNumbers = []\n",
    "uniqueNumbers = []\n",
    "\n",
    "\n",
    "for number, count in counts.items():   # count değişkeni, sayının tekrar sayısını temsil eder.\n",
    "\n",
    "    if count > 1:\n",
    "        repeatNumbers.extend([number] * (count - 1))  # ifadesi, number değerini (count - 1) kez içeren bir liste oluşturur.\n",
    "    else:\n",
    "        uniqueNumbers.append(number)\n",
    "\n",
    "# Sonuçları ekrana yazdırıyoruz\n",
    "print(\"Tekrar Eden Elemanlar:\", repeatNumbers)\n",
    "print(\"Tekrar Etmeyen Elemanlar:\", uniqueNumbers)\n"
   ]
  },
  {
   "cell_type": "markdown",
   "metadata": {},
   "source": [
    "# Problem 3\n",
    "sn1 = {1,2,3,4,5}\n",
    "\n",
    "sn2 = {4,5,6,7,8}\n",
    "\n",
    " Verilen 2 adet küme için kesişimlerini, farklarını ve birleşimlerini bulunuz. "
   ]
  },
  {
   "cell_type": "code",
   "execution_count": 2,
   "metadata": {},
   "outputs": [
    {
     "name": "stdout",
     "output_type": "stream",
     "text": [
      "{4, 5}\n",
      "{1, 2, 3}\n",
      "{8, 6, 7}\n",
      "{1, 2, 3, 4, 5, 6, 7, 8}\n"
     ]
    }
   ],
   "source": [
    "\n",
    "\n",
    "\n",
    "sn1 = {1, 2, 3, 4, 5}\n",
    "sn2 = {4, 5, 6, 7, 8}\n",
    "\n",
    "kesisim = sn1 & sn2       # veya sn1.intersection(sn2)\n",
    "\n",
    "\n",
    "fark_sn1_sn2 = sn1 - sn2  # veya sn1.difference(sn2)\n",
    "fark_sn2_sn1 = sn2 - sn1  # veya sn2.difference(sn1)\n",
    "\n",
    "\n",
    "birlesim = sn1 | sn2  # veya sn1.union(sn2)\n",
    "\n",
    "print( kesisim)\n",
    "print( fark_sn1_sn2)\n",
    "print(fark_sn2_sn1)\n",
    "print( birlesim)\n"
   ]
  },
  {
   "cell_type": "markdown",
   "metadata": {},
   "source": [
    "# Problem 4\n",
    "\n",
    "Buradaki işlemlerimizin tamamı stringler içindir. Aşağıda verilecek olan metodlar için kendinizin örnek yaratması gerekmektedir. \n",
    "\n",
    "Örneğin `upper` için `string` değişkeni oluştururken` k = \"BAC\"` şeklinde oluşturmayınız. Bunun yerine k değişkenini `k = \"bac`\" şeklinde oluşturmanız `upper` metodundaki değişimi görebilmeniz için daha iyi olacaktır.\n",
    "\n",
    "Bütün metodlardaki değişimin gözle görülür şekilde değişimi beklenmektedir.\n",
    "\n",
    "\n",
    "1- capitalize(), lower(), upper(), swapcase(), title(), replace()\n",
    "\n",
    "2- endswith(), startswith(), find(), index(), count()\n",
    "\n",
    "3- split(), strip(), join(), islower(), isalpha(), isdigit()\n",
    "\n",
    "\n",
    "Yukarıdaki `string` metodlarındaki değişimleri görebildiğimiz bir program yazınız.\n"
   ]
  },
  {
   "cell_type": "code",
   "execution_count": 7,
   "metadata": {},
   "outputs": [
    {
     "name": "stdout",
     "output_type": "stream",
     "text": [
      "capitalize(): Ne mutlu türküm diyene\n",
      "lower(): ne mutlu türküm diyene\n",
      "upper(): NE MUTLU TÜRKÜM DIYENE\n",
      "swapcase(): nE mUTLU tÜRKÜM dIYENE\n",
      "title(): Ne Mutlu Türküm Diyene\n",
      "replace(): Ne Mutlu TÜRKÜM Diyene\n",
      "\n",
      "\n",
      "endswith('g'): True\n",
      "True\n",
      "startswith('p'): True\n",
      "startswith('python'): True\n",
      "find('pro'): 7\n",
      "find('ing'): 15\n",
      "index('pro'): 7\n",
      "index('ing'): 15\n",
      "count('p'): 2\n",
      "count('o'): 2\n",
      "\n",
      "\n",
      "split(): ['python', 'programming']\n",
      "strip(): python programming\n",
      "join(): Python Programming Is Fun\n",
      "islower(): True\n",
      "isalpha() (alpha_str): True\n",
      "isalpha() (s): False\n",
      "isdigit() (digit_str): True\n",
      "isdigit() (s): False\n"
     ]
    }
   ],
   "source": [
    "# 4.Problemin Çözümünü Buraya Yazınız\n",
    "\n",
    "\n",
    "\n",
    "s = \"Ne Mutlu Türküm Diyene\"\n",
    "\n",
    "\n",
    "print(\"capitalize():\", s.capitalize())     # capitalize() - İlk harfi büyük yapar\n",
    "\n",
    "print(\"lower():\", s.lower())\n",
    "\n",
    "print(\"upper():\", s.upper())\n",
    "\n",
    "print(\"swapcase():\", s.swapcase())       # swapcase() - Büyük harfleri küçük, küçük harfleri büyük yapar\n",
    "\n",
    "print(\"title():\", s.title())\n",
    "\n",
    "\n",
    "print(\"replace():\", s.replace(\"Türküm\", \"TÜRKÜM\"))\n",
    "\n",
    "\n",
    "\n",
    "print()\n",
    "print()\n",
    "\n",
    "\n",
    "\n",
    "\n",
    "s = \"python programming\"\n",
    "\n",
    "# endswith() - Belirtilen ile bitip bitmediğini kontrol eder\n",
    "print(\"endswith('g'):\", s.endswith('g'))\n",
    "print( s.endswith('ing'))\n",
    "\n",
    "# startswith() - Belirtilen ile başlayıp başlamadığını kontrol eder\n",
    "print(\"startswith('p'):\", s.startswith('p'))\n",
    "print(\"startswith('python'):\", s.startswith('python'))\n",
    "\n",
    "# find() - Belirtilen kısmın ilk bulunduğu indeks\n",
    "print(\"find('pro'):\", s.find('pro'))\n",
    "print(\"find('ing'):\", s.find('ing'))\n",
    "\n",
    "# index() - Belirtilen kısmın ilk bulunduğu indeks (bulamazsa hata verir)\n",
    "print(\"index('pro'):\", s.index('pro'))\n",
    "print(\"index('ing'):\", s.index('ing'))\n",
    "\n",
    "# count() - Belirtilen kısmın kaç kez geçtiğini sayar\n",
    "print(\"count('p'):\", s.count('p'))\n",
    "print(\"count('o'):\", s.count('o'))\n",
    "\n",
    "\n",
    "\n",
    "\n",
    "print()\n",
    "print()\n",
    "\n",
    "\n",
    "s = \"  python programming  \"\n",
    "\n",
    "# split() - Belirtilen karaktere göre parçalar ve liste döner\n",
    "print(\"split():\", s.split())\n",
    "\n",
    "# strip() - Başındaki ve sonundaki boşlukları kaldırır\n",
    "print(\"strip():\", s.strip())\n",
    "\n",
    "# join() - Liste elemanlarını birleştirir\n",
    "words = [\"Python\", \"Programming\", \"Is\", \"Fun\"]\n",
    "print(\"join():\", \" \".join(words))\n",
    "\n",
    "# islower() - Tüm harflerin küçük olup olmadığını kontrol eder\n",
    "print(\"islower():\", s.islower())\n",
    "\n",
    "# isalpha() - Tüm karakterlerin harf olup olmadığını kontrol eder\n",
    "alpha_str = \"python\"\n",
    "print(\"isalpha() (alpha_str):\", alpha_str.isalpha())\n",
    "print(\"isalpha() (s):\", s.isalpha())\n",
    "\n",
    "# isdigit() - Tüm karakterlerin rakam olup olmadığını kontrol eder\n",
    "digit_str = \"12345\"\n",
    "print(\"isdigit() (digit_str):\", digit_str.isdigit())\n",
    "print(\"isdigit() (s):\", s.isdigit())\n",
    "\n",
    "\n"
   ]
  }
 ],
 "metadata": {
  "kernelspec": {
   "display_name": "Python 3.10.5 64-bit",
   "language": "python",
   "name": "python3"
  },
  "language_info": {
   "codemirror_mode": {
    "name": "ipython",
    "version": 3
   },
   "file_extension": ".py",
   "mimetype": "text/x-python",
   "name": "python",
   "nbconvert_exporter": "python",
   "pygments_lexer": "ipython3",
   "version": "3.12.3"
  },
  "orig_nbformat": 4,
  "vscode": {
   "interpreter": {
    "hash": "5026d2d6e7aaaaba093def813beadff083d8733e4a511af01735cbabd156995d"
   }
  }
 },
 "nbformat": 4,
 "nbformat_minor": 2
}
